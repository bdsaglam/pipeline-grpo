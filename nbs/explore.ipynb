{
 "cells": [
  {
   "cell_type": "code",
   "execution_count": 1,
   "metadata": {},
   "outputs": [
    {
     "data": {
      "text/plain": [
       "True"
      ]
     },
     "execution_count": 1,
     "metadata": {},
     "output_type": "execute_result"
    }
   ],
   "source": [
    "from dotenv import load_dotenv\n",
    "load_dotenv()"
   ]
  },
  {
   "cell_type": "code",
   "execution_count": 2,
   "metadata": {},
   "outputs": [],
   "source": [
    "import os\n",
    "os.environ['CUDA_VISIBLE_DEVICES'] = '3'"
   ]
  },
  {
   "cell_type": "code",
   "execution_count": 3,
   "metadata": {},
   "outputs": [
    {
     "name": "stderr",
     "output_type": "stream",
     "text": [
      "Sliding Window Attention is enabled but not implemented for `sdpa`; unexpected results may be encountered.\n"
     ]
    }
   ],
   "source": [
    "import torch\n",
    "from transformers import AutoModelForCausalLM, AutoTokenizer\n",
    "\n",
    "model_path = \"../Qwen2.5-1.5B-Instruct-GRPO\"\n",
    "\n",
    "model_kwargs = {\n",
    "    \"torch_dtype\": torch.bfloat16,\n",
    "}\n",
    "\n",
    "model = AutoModelForCausalLM.from_pretrained(model_path, **model_kwargs)\n",
    "\n",
    "# Load tokenizer\n",
    "tokenizer = AutoTokenizer.from_pretrained(model_path)\n",
    "tokenizer.pad_token = tokenizer.eos_token\n"
   ]
  },
  {
   "cell_type": "code",
   "execution_count": 5,
   "metadata": {},
   "outputs": [],
   "source": [
    "from logging import getLogger as get_logger\n",
    "\n",
    "log = get_logger(__name__)\n",
    "\n",
    "\n",
    "# merge lora adapters and save\n",
    "def merge_adapters_and_publish(\n",
    "    model_id: str,\n",
    "    torch_dtype=torch.float16,\n",
    "    device_map={\"\": 0},\n",
    "    merged_model_id: str=None,\n",
    "):\n",
    "    from peft import AutoPeftModelForCausalLM\n",
    "    \n",
    "    if isinstance(torch_dtype, str) and torch_dtype != \"auto\":\n",
    "        torch_dtype = getattr(torch, torch_dtype) \n",
    "\n",
    "    log.info(f\"Loading model and tokenizer for {model_id}\")\n",
    "    model = AutoPeftModelForCausalLM.from_pretrained(\n",
    "        model_id,\n",
    "        torch_dtype=torch_dtype,\n",
    "        device_map=device_map,\n",
    "    )\n",
    "    tokenizer = AutoTokenizer.from_pretrained(model_id, trust_remote_code=True)\n",
    "\n",
    "    log.info(\"Merging adapters to model...\")\n",
    "    model = model.merge_and_unload()\n",
    "\n",
    "    if merged_model_id is None:\n",
    "        merged_model_id = f\"{model_id}-merged\"\n",
    "    log.info(f\"Pushing merged model to HF hub as {merged_model_id}\")\n",
    "    model.push_to_hub(merged_model_id)\n",
    "    tokenizer.push_to_hub(merged_model_id)\n",
    "    return merged_model_id\n"
   ]
  },
  {
   "cell_type": "code",
   "execution_count": 6,
   "metadata": {},
   "outputs": [
    {
     "data": {
      "application/vnd.jupyter.widget-view+json": {
       "model_id": "31721dd8aea0481eb6e49640962e5ea0",
       "version_major": 2,
       "version_minor": 0
      },
      "text/plain": [
       "model.safetensors:   0%|          | 0.00/3.09G [00:00<?, ?B/s]"
      ]
     },
     "metadata": {},
     "output_type": "display_data"
    },
    {
     "data": {
      "application/vnd.jupyter.widget-view+json": {
       "model_id": "30a0079cbe184d38aa4abaa23a983634",
       "version_major": 2,
       "version_minor": 0
      },
      "text/plain": [
       "README.md:   0%|          | 0.00/5.17k [00:00<?, ?B/s]"
      ]
     },
     "metadata": {},
     "output_type": "display_data"
    },
    {
     "data": {
      "application/vnd.jupyter.widget-view+json": {
       "model_id": "30b77fe820ff4b20b0dbe9ea874ff465",
       "version_major": 2,
       "version_minor": 0
      },
      "text/plain": [
       "tokenizer.json:   0%|          | 0.00/11.4M [00:00<?, ?B/s]"
      ]
     },
     "metadata": {},
     "output_type": "display_data"
    },
    {
     "data": {
      "text/plain": [
       "'Qwen2.5-1.5B-Instruct-GRPO-merged'"
      ]
     },
     "execution_count": 6,
     "metadata": {},
     "output_type": "execute_result"
    }
   ],
   "source": [
    "merge_adapters_and_publish('../Qwen2.5-1.5B-Instruct-GRPO', merged_model_id='Qwen2.5-1.5B-Instruct-GRPO-merged')"
   ]
  },
  {
   "cell_type": "code",
   "execution_count": null,
   "metadata": {},
   "outputs": [],
   "source": []
  }
 ],
 "metadata": {
  "language_info": {
   "name": "python"
  }
 },
 "nbformat": 4,
 "nbformat_minor": 2
}
